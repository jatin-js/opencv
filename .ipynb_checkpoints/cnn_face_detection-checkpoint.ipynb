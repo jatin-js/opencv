{
 "cells": [
  {
   "cell_type": "code",
   "execution_count": 1,
   "metadata": {},
   "outputs": [],
   "source": [
    "import numpy as np\n",
    "import pandas as pd\n",
    "import pathlib\n",
    "import PIL\n",
    "import tensorflow as tf\n",
    "from tensorflow import keras\n",
    "import cv2\n",
    "from PIL import Image\n",
    "from matplotlib import pyplot as plt"
   ]
  },
  {
   "cell_type": "code",
   "execution_count": 2,
   "metadata": {},
   "outputs": [
    {
     "data": {
      "text/plain": [
       "PosixPath('/Users/app/Documents/Machine_Learning/opencv/images/train')"
      ]
     },
     "execution_count": 2,
     "metadata": {},
     "output_type": "execute_result"
    }
   ],
   "source": [
    "train_dir_path = pathlib.Path('images/train/').absolute()\n",
    "train_dir_path"
   ]
  },
  {
   "cell_type": "code",
   "execution_count": 3,
   "metadata": {},
   "outputs": [],
   "source": [
    "train_images_path = train_dir_path.glob('*/*.jpg')"
   ]
  },
  {
   "cell_type": "code",
   "execution_count": 4,
   "metadata": {},
   "outputs": [],
   "source": [
    "train_images_path = list(train_images_path)"
   ]
  },
  {
   "cell_type": "code",
   "execution_count": 5,
   "metadata": {},
   "outputs": [
    {
     "data": {
      "text/plain": [
       "PosixPath('/Users/app/Documents/Machine_Learning/opencv/images/train/happy/3578.jpg')"
      ]
     },
     "execution_count": 5,
     "metadata": {},
     "output_type": "execute_result"
    }
   ],
   "source": [
    "train_images_path[0]"
   ]
  },
  {
   "cell_type": "code",
   "execution_count": 6,
   "metadata": {},
   "outputs": [
    {
     "data": {
      "image/png": "[encoded data removed]",
      "text/plain": [
       "<PIL.JpegImagePlugin.JpegImageFile image mode=L size=48x48 at 0x10D35DEB0>"
      ]
     },
     "execution_count": 6,
     "metadata": {},
     "output_type": "execute_result"
    }
   ],
   "source": [
    "from PIL import Image\n",
    "Image.open(train_images_path[1])"
   ]
  },
  {
   "cell_type": "code",
   "execution_count": 7,
   "metadata": {},
   "outputs": [],
   "source": [
    "train_faces_dict = {\n",
    "    'angry':list(train_dir_path.glob('angry/*')),\n",
    "    'disgust':list(train_dir_path.glob('disgust/*')),\n",
    "    'fear':list(train_dir_path.glob('fear/*')),\n",
    "    'happy':list(train_dir_path.glob('happy/*')),\n",
    "    'neutral':list(train_dir_path.glob('neutral/*')),\n",
    "    'sad':list(train_dir_path.glob('sad/*')),\n",
    "    'surprise':list(train_dir_path.glob('surprise/*'))\n",
    "}"
   ]
  },
  {
   "cell_type": "code",
   "execution_count": 8,
   "metadata": {},
   "outputs": [
    {
     "data": {
      "text/plain": [
       "PosixPath('/Users/app/Documents/Machine_Learning/opencv/images/train/surprise/12536.jpg')"
      ]
     },
     "execution_count": 8,
     "metadata": {},
     "output_type": "execute_result"
    }
   ],
   "source": [
    "train_faces_dict['surprise'][0]"
   ]
  },
  {
   "cell_type": "code",
   "execution_count": 9,
   "metadata": {},
   "outputs": [
    {
     "data": {
      "text/plain": [
       "(3205,)"
      ]
     },
     "execution_count": 9,
     "metadata": {},
     "output_type": "execute_result"
    }
   ],
   "source": [
    "np.array(train_faces_dict['surprise']).shape"
   ]
  },
  {
   "cell_type": "code",
   "execution_count": 10,
   "metadata": {},
   "outputs": [
    {
     "data": {
      "text/plain": [
       "(48, 48, 3)"
      ]
     },
     "execution_count": 10,
     "metadata": {},
     "output_type": "execute_result"
    }
   ],
   "source": [
    "cv2.imread(str(train_faces_dict['surprise'][0])).shape"
   ]
  },
  {
   "cell_type": "code",
   "execution_count": 11,
   "metadata": {},
   "outputs": [],
   "source": [
    "face_labels = {\n",
    "    'angry':0,\n",
    "    'disgust':1,\n",
    "    'fear':2,\n",
    "    'happy':3,\n",
    "    'neutral':4,\n",
    "    'sad':5,\n",
    "    'surprise':6,\n",
    "}"
   ]
  },
  {
   "cell_type": "code",
   "execution_count": 44,
   "metadata": {},
   "outputs": [
    {
     "name": "stdout",
     "output_type": "stream",
     "text": [
      "100\n",
      "100\n",
      "100\n",
      "100\n",
      "100\n",
      "100\n",
      "100\n"
     ]
    }
   ],
   "source": [
    "x = []\n",
    "y = []\n",
    "for emotion, faces in train_faces_dict.items():\n",
    "    i=0\n",
    "    for face in faces:\n",
    "        f = cv2.imread(str(face))\n",
    "        resized_img = cv2.resize(f,(224,224))\n",
    "        x.append(resized_img)\n",
    "        y.append(face_labels[emotion])\n",
    "        i+=1\n",
    "        if i==100:\n",
    "            print(i)\n",
    "            break\n",
    "        "
   ]
  },
  {
   "cell_type": "code",
   "execution_count": 45,
   "metadata": {},
   "outputs": [],
   "source": [
    "x=np.array(x)\n",
    "y=np.array(y)"
   ]
  },
  {
   "cell_type": "code",
   "execution_count": 46,
   "metadata": {},
   "outputs": [
    {
     "data": {
      "text/plain": [
       "(700, 224, 224, 3)"
      ]
     },
     "execution_count": 46,
     "metadata": {},
     "output_type": "execute_result"
    }
   ],
   "source": [
    "x.shape"
   ]
  },
  {
   "cell_type": "code",
   "execution_count": 47,
   "metadata": {},
   "outputs": [
    {
     "data": {
      "text/plain": [
       "(700,)"
      ]
     },
     "execution_count": 47,
     "metadata": {},
     "output_type": "execute_result"
    }
   ],
   "source": [
    "y.shape"
   ]
  },
  {
   "cell_type": "code",
   "execution_count": 48,
   "metadata": {},
   "outputs": [
    {
     "data": {
      "text/plain": [
       "<matplotlib.image.AxesImage at 0x151785280>"
      ]
     },
     "execution_count": 48,
     "metadata": {},
     "output_type": "execute_result"
    },
    {
     "data": {
      "image/png": "[encoded data removed]",
      "text/plain": [
       "<Figure size 432x288 with 1 Axes>"
      ]
     },
     "metadata": {
      "needs_background": "light"
     },
     "output_type": "display_data"
    }
   ],
   "source": [
    "plt.imshow(x[0])"
   ]
  },
  {
   "cell_type": "code",
   "execution_count": 49,
   "metadata": {},
   "outputs": [],
   "source": [
    "x = x/255"
   ]
  },
  {
   "cell_type": "code",
   "execution_count": 50,
   "metadata": {},
   "outputs": [
    {
     "data": {
      "text/plain": [
       "(224, 224, 3)"
      ]
     },
     "execution_count": 50,
     "metadata": {},
     "output_type": "execute_result"
    }
   ],
   "source": [
    "x[0].shape"
   ]
  },
  {
   "cell_type": "code",
   "execution_count": 19,
   "metadata": {},
   "outputs": [],
   "source": [
    "model = keras.models.Sequential([\n",
    "    keras.layers.Conv2D(16, 3, padding='same', activation='relu'),\n",
    "    keras.layers.MaxPool2D(),\n",
    "    keras.layers.Conv2D(32, 3, padding='same', activation='relu'),\n",
    "    keras.layers.MaxPool2D(),\n",
    "    keras.layers.Flatten(),\n",
    "    keras.layers.Dense(128, activation='relu'),\n",
    "    keras.layers.Dense(7, activation='softmax')\n",
    "])\n",
    "model.compile(\n",
    "    optimizer='adam',\n",
    "    loss='sparse_categorical_crossentropy',\n",
    "    metrics='accuracy'\n",
    ")\n",
    "\n"
   ]
  },
  {
   "cell_type": "code",
   "execution_count": 20,
   "metadata": {},
   "outputs": [
    {
     "name": "stdout",
     "output_type": "stream",
     "text": [
      "Epoch 1/5\n",
      "22/22 [==============================] - 9s 354ms/step - loss: 12.8545 - accuracy: 0.1149\n",
      "Epoch 2/5\n",
      "22/22 [==============================] - 8s 353ms/step - loss: 1.9431 - accuracy: 0.1849\n",
      "Epoch 3/5\n",
      "22/22 [==============================] - 7s 338ms/step - loss: 1.9123 - accuracy: 0.2074\n",
      "Epoch 4/5\n",
      "22/22 [==============================] - 8s 342ms/step - loss: 1.7434 - accuracy: 0.4008\n",
      "Epoch 5/5\n",
      "22/22 [==============================] - 8s 342ms/step - loss: 1.4926 - accuracy: 0.4841\n"
     ]
    },
    {
     "data": {
      "text/plain": [
       "<tensorflow.python.keras.callbacks.History at 0x13994d0d0>"
      ]
     },
     "execution_count": 20,
     "metadata": {},
     "output_type": "execute_result"
    }
   ],
   "source": [
    "model.fit(x, y, epochs=5)"
   ]
  },
  {
   "cell_type": "code",
   "execution_count": 21,
   "metadata": {},
   "outputs": [
    {
     "name": "stdout",
     "output_type": "stream",
     "text": [
      "22/22 [==============================] - 2s 78ms/step - loss: 1.2460 - accuracy: 0.6171\n"
     ]
    },
    {
     "data": {
      "text/plain": [
       "[1.2459689378738403, 0.6171428561210632]"
      ]
     },
     "execution_count": 21,
     "metadata": {},
     "output_type": "execute_result"
    }
   ],
   "source": [
    "model.evaluate(x, y)"
   ]
  },
  {
   "cell_type": "code",
   "execution_count": 51,
   "metadata": {},
   "outputs": [],
   "source": [
    "y_pred = model.predict(x)"
   ]
  },
  {
   "cell_type": "code",
   "execution_count": 58,
   "metadata": {},
   "outputs": [
    {
     "data": {
      "text/plain": [
       "0"
      ]
     },
     "execution_count": 58,
     "metadata": {},
     "output_type": "execute_result"
    }
   ],
   "source": [
    "y[3]"
   ]
  },
  {
   "cell_type": "code",
   "execution_count": 57,
   "metadata": {},
   "outputs": [
    {
     "data": {
      "text/plain": [
       "0"
      ]
     },
     "execution_count": 57,
     "metadata": {},
     "output_type": "execute_result"
    }
   ],
   "source": [
    "np.argmax(y_pred[3])"
   ]
  },
  {
   "cell_type": "code",
   "execution_count": 25,
   "metadata": {},
   "outputs": [],
   "source": [
    "import tensorflow_hub as hub\n",
    "feature_extractor_model = \"https://tfhub.dev/google/tf2-preview/mobilenet_v2/feature_vector/4\"\n",
    "\n",
    "pretrained_model_without_top_layer = hub.KerasLayer(\n",
    "    feature_extractor_model, input_shape=(224, 224, 3), trainable=False)"
   ]
  },
  {
   "cell_type": "code",
   "execution_count": 26,
   "metadata": {},
   "outputs": [],
   "source": [
    "model = tf.keras.Sequential([\n",
    "  pretrained_model_without_top_layer,\n",
    "  tf.keras.layers.Dense(7, activation='sigmoid')\n",
    "])"
   ]
  },
  {
   "cell_type": "code",
   "execution_count": 27,
   "metadata": {},
   "outputs": [],
   "source": [
    "model.compile(\n",
    "    optimizer='adam',\n",
    "    loss='sparse_categorical_crossentropy',\n",
    "    metrics='accuracy'\n",
    ")"
   ]
  },
  {
   "cell_type": "code",
   "execution_count": 28,
   "metadata": {},
   "outputs": [
    {
     "name": "stdout",
     "output_type": "stream",
     "text": [
      "Epoch 1/5\n",
      "22/22 [==============================] - 11s 413ms/step - loss: 2.3354 - accuracy: 0.1422\n",
      "Epoch 2/5\n",
      "22/22 [==============================] - 9s 426ms/step - loss: 1.8873 - accuracy: 0.2487\n",
      "Epoch 3/5\n",
      "22/22 [==============================] - 10s 436ms/step - loss: 1.6988 - accuracy: 0.3509\n",
      "Epoch 4/5\n",
      "22/22 [==============================] - 13s 586ms/step - loss: 1.5387 - accuracy: 0.4322\n",
      "Epoch 5/5\n",
      "22/22 [==============================] - 13s 602ms/step - loss: 1.4457 - accuracy: 0.4809\n"
     ]
    },
    {
     "data": {
      "text/plain": [
       "<tensorflow.python.keras.callbacks.History at 0x1505c83d0>"
      ]
     },
     "execution_count": 28,
     "metadata": {},
     "output_type": "execute_result"
    }
   ],
   "source": [
    "model.fit(x, y, epochs=5)"
   ]
  },
  {
   "cell_type": "code",
   "execution_count": 29,
   "metadata": {},
   "outputs": [
    {
     "name": "stdout",
     "output_type": "stream",
     "text": [
      "22/22 [==============================] - 12s 508ms/step - loss: 1.4053 - accuracy: 0.4914\n"
     ]
    },
    {
     "data": {
      "text/plain": [
       "[1.4053243398666382, 0.49142858386039734]"
      ]
     },
     "execution_count": 29,
     "metadata": {},
     "output_type": "execute_result"
    }
   ],
   "source": [
    "model.evaluate(x, y)"
   ]
  },
  {
   "cell_type": "code",
   "execution_count": 63,
   "metadata": {},
   "outputs": [],
   "source": [
    "y_pred = model.predict(x)"
   ]
  },
  {
   "cell_type": "code",
   "execution_count": 64,
   "metadata": {},
   "outputs": [
    {
     "data": {
      "text/plain": [
       "array([[[[0.28235294, 0.28235294, 0.28235294],\n",
       "         [0.28235294, 0.28235294, 0.28235294],\n",
       "         [0.28235294, 0.28235294, 0.28235294],\n",
       "         ...,\n",
       "         [0.19215686, 0.19215686, 0.19215686],\n",
       "         [0.19215686, 0.19215686, 0.19215686],\n",
       "         [0.19215686, 0.19215686, 0.19215686]],\n",
       "\n",
       "        [[0.28235294, 0.28235294, 0.28235294],\n",
       "         [0.28235294, 0.28235294, 0.28235294],\n",
       "         [0.28235294, 0.28235294, 0.28235294],\n",
       "         ...,\n",
       "         [0.19215686, 0.19215686, 0.19215686],\n",
       "         [0.19215686, 0.19215686, 0.19215686],\n",
       "         [0.19215686, 0.19215686, 0.19215686]],\n",
       "\n",
       "        [[0.28235294, 0.28235294, 0.28235294],\n",
       "         [0.28235294, 0.28235294, 0.28235294],\n",
       "         [0.28235294, 0.28235294, 0.28235294],\n",
       "         ...,\n",
       "         [0.19215686, 0.19215686, 0.19215686],\n",
       "         [0.19215686, 0.19215686, 0.19215686],\n",
       "         [0.19215686, 0.19215686, 0.19215686]],\n",
       "\n",
       "        ...,\n",
       "\n",
       "        [[0.09803922, 0.09803922, 0.09803922],\n",
       "         [0.09803922, 0.09803922, 0.09803922],\n",
       "         [0.09803922, 0.09803922, 0.09803922],\n",
       "         ...,\n",
       "         [0.1254902 , 0.1254902 , 0.1254902 ],\n",
       "         [0.12156863, 0.12156863, 0.12156863],\n",
       "         [0.12156863, 0.12156863, 0.12156863]],\n",
       "\n",
       "        [[0.09803922, 0.09803922, 0.09803922],\n",
       "         [0.09803922, 0.09803922, 0.09803922],\n",
       "         [0.09803922, 0.09803922, 0.09803922],\n",
       "         ...,\n",
       "         [0.12156863, 0.12156863, 0.12156863],\n",
       "         [0.12156863, 0.12156863, 0.12156863],\n",
       "         [0.12156863, 0.12156863, 0.12156863]],\n",
       "\n",
       "        [[0.09803922, 0.09803922, 0.09803922],\n",
       "         [0.09803922, 0.09803922, 0.09803922],\n",
       "         [0.09803922, 0.09803922, 0.09803922],\n",
       "         ...,\n",
       "         [0.12156863, 0.12156863, 0.12156863],\n",
       "         [0.12156863, 0.12156863, 0.12156863],\n",
       "         [0.12156863, 0.12156863, 0.12156863]]],\n",
       "\n",
       "\n",
       "       [[[0.69019608, 0.69019608, 0.69019608],\n",
       "         [0.69019608, 0.69019608, 0.69019608],\n",
       "         [0.68627451, 0.68627451, 0.68627451],\n",
       "         ...,\n",
       "         [0.2745098 , 0.2745098 , 0.2745098 ],\n",
       "         [0.2745098 , 0.2745098 , 0.2745098 ],\n",
       "         [0.2745098 , 0.2745098 , 0.2745098 ]],\n",
       "\n",
       "        [[0.69019608, 0.69019608, 0.69019608],\n",
       "         [0.69019608, 0.69019608, 0.69019608],\n",
       "         [0.68627451, 0.68627451, 0.68627451],\n",
       "         ...,\n",
       "         [0.2745098 , 0.2745098 , 0.2745098 ],\n",
       "         [0.2745098 , 0.2745098 , 0.2745098 ],\n",
       "         [0.2745098 , 0.2745098 , 0.2745098 ]],\n",
       "\n",
       "        [[0.68627451, 0.68627451, 0.68627451],\n",
       "         [0.68627451, 0.68627451, 0.68627451],\n",
       "         [0.68235294, 0.68235294, 0.68235294],\n",
       "         ...,\n",
       "         [0.2745098 , 0.2745098 , 0.2745098 ],\n",
       "         [0.2745098 , 0.2745098 , 0.2745098 ],\n",
       "         [0.2745098 , 0.2745098 , 0.2745098 ]],\n",
       "\n",
       "        ...,\n",
       "\n",
       "        [[0.73333333, 0.73333333, 0.73333333],\n",
       "         [0.73333333, 0.73333333, 0.73333333],\n",
       "         [0.73333333, 0.73333333, 0.73333333],\n",
       "         ...,\n",
       "         [0.05882353, 0.05882353, 0.05882353],\n",
       "         [0.05882353, 0.05882353, 0.05882353],\n",
       "         [0.05882353, 0.05882353, 0.05882353]],\n",
       "\n",
       "        [[0.73333333, 0.73333333, 0.73333333],\n",
       "         [0.73333333, 0.73333333, 0.73333333],\n",
       "         [0.73333333, 0.73333333, 0.73333333],\n",
       "         ...,\n",
       "         [0.05882353, 0.05882353, 0.05882353],\n",
       "         [0.05882353, 0.05882353, 0.05882353],\n",
       "         [0.05882353, 0.05882353, 0.05882353]],\n",
       "\n",
       "        [[0.73333333, 0.73333333, 0.73333333],\n",
       "         [0.73333333, 0.73333333, 0.73333333],\n",
       "         [0.73333333, 0.73333333, 0.73333333],\n",
       "         ...,\n",
       "         [0.05882353, 0.05882353, 0.05882353],\n",
       "         [0.05882353, 0.05882353, 0.05882353],\n",
       "         [0.05882353, 0.05882353, 0.05882353]]],\n",
       "\n",
       "\n",
       "       [[[1.        , 1.        , 1.        ],\n",
       "         [1.        , 1.        , 1.        ],\n",
       "         [1.        , 1.        , 1.        ],\n",
       "         ...,\n",
       "         [0.58039216, 0.58039216, 0.58039216],\n",
       "         [0.58039216, 0.58039216, 0.58039216],\n",
       "         [0.58039216, 0.58039216, 0.58039216]],\n",
       "\n",
       "        [[1.        , 1.        , 1.        ],\n",
       "         [1.        , 1.        , 1.        ],\n",
       "         [1.        , 1.        , 1.        ],\n",
       "         ...,\n",
       "         [0.58039216, 0.58039216, 0.58039216],\n",
       "         [0.58039216, 0.58039216, 0.58039216],\n",
       "         [0.58039216, 0.58039216, 0.58039216]],\n",
       "\n",
       "        [[1.        , 1.        , 1.        ],\n",
       "         [1.        , 1.        , 1.        ],\n",
       "         [1.        , 1.        , 1.        ],\n",
       "         ...,\n",
       "         [0.58039216, 0.58039216, 0.58039216],\n",
       "         [0.58039216, 0.58039216, 0.58039216],\n",
       "         [0.58039216, 0.58039216, 0.58039216]],\n",
       "\n",
       "        ...,\n",
       "\n",
       "        [[0.24705882, 0.24705882, 0.24705882],\n",
       "         [0.24705882, 0.24705882, 0.24705882],\n",
       "         [0.25490196, 0.25490196, 0.25490196],\n",
       "         ...,\n",
       "         [0.88235294, 0.88235294, 0.88235294],\n",
       "         [0.88235294, 0.88235294, 0.88235294],\n",
       "         [0.88235294, 0.88235294, 0.88235294]],\n",
       "\n",
       "        [[0.23921569, 0.23921569, 0.23921569],\n",
       "         [0.23921569, 0.23921569, 0.23921569],\n",
       "         [0.24313725, 0.24313725, 0.24313725],\n",
       "         ...,\n",
       "         [0.88235294, 0.88235294, 0.88235294],\n",
       "         [0.88235294, 0.88235294, 0.88235294],\n",
       "         [0.88235294, 0.88235294, 0.88235294]],\n",
       "\n",
       "        [[0.23921569, 0.23921569, 0.23921569],\n",
       "         [0.23921569, 0.23921569, 0.23921569],\n",
       "         [0.24705882, 0.24705882, 0.24705882],\n",
       "         ...,\n",
       "         [0.88235294, 0.88235294, 0.88235294],\n",
       "         [0.88235294, 0.88235294, 0.88235294],\n",
       "         [0.88235294, 0.88235294, 0.88235294]]],\n",
       "\n",
       "\n",
       "       ...,\n",
       "\n",
       "\n",
       "       [[[0.23529412, 0.23529412, 0.23529412],\n",
       "         [0.23529412, 0.23529412, 0.23529412],\n",
       "         [0.23529412, 0.23529412, 0.23529412],\n",
       "         ...,\n",
       "         [0.34509804, 0.34509804, 0.34509804],\n",
       "         [0.34509804, 0.34509804, 0.34509804],\n",
       "         [0.34509804, 0.34509804, 0.34509804]],\n",
       "\n",
       "        [[0.23529412, 0.23529412, 0.23529412],\n",
       "         [0.23529412, 0.23529412, 0.23529412],\n",
       "         [0.23529412, 0.23529412, 0.23529412],\n",
       "         ...,\n",
       "         [0.34509804, 0.34509804, 0.34509804],\n",
       "         [0.34509804, 0.34509804, 0.34509804],\n",
       "         [0.34509804, 0.34509804, 0.34509804]],\n",
       "\n",
       "        [[0.23529412, 0.23529412, 0.23529412],\n",
       "         [0.23529412, 0.23529412, 0.23529412],\n",
       "         [0.23529412, 0.23529412, 0.23529412],\n",
       "         ...,\n",
       "         [0.34509804, 0.34509804, 0.34509804],\n",
       "         [0.34509804, 0.34509804, 0.34509804],\n",
       "         [0.34509804, 0.34509804, 0.34509804]],\n",
       "\n",
       "        ...,\n",
       "\n",
       "        [[0.54901961, 0.54901961, 0.54901961],\n",
       "         [0.54901961, 0.54901961, 0.54901961],\n",
       "         [0.54901961, 0.54901961, 0.54901961],\n",
       "         ...,\n",
       "         [0.60392157, 0.60392157, 0.60392157],\n",
       "         [0.60392157, 0.60392157, 0.60392157],\n",
       "         [0.60392157, 0.60392157, 0.60392157]],\n",
       "\n",
       "        [[0.54901961, 0.54901961, 0.54901961],\n",
       "         [0.54901961, 0.54901961, 0.54901961],\n",
       "         [0.54901961, 0.54901961, 0.54901961],\n",
       "         ...,\n",
       "         [0.60392157, 0.60392157, 0.60392157],\n",
       "         [0.60392157, 0.60392157, 0.60392157],\n",
       "         [0.60392157, 0.60392157, 0.60392157]],\n",
       "\n",
       "        [[0.54901961, 0.54901961, 0.54901961],\n",
       "         [0.54901961, 0.54901961, 0.54901961],\n",
       "         [0.54901961, 0.54901961, 0.54901961],\n",
       "         ...,\n",
       "         [0.60392157, 0.60392157, 0.60392157],\n",
       "         [0.60392157, 0.60392157, 0.60392157],\n",
       "         [0.60392157, 0.60392157, 0.60392157]]],\n",
       "\n",
       "\n",
       "       [[[0.94901961, 0.94901961, 0.94901961],\n",
       "         [0.94901961, 0.94901961, 0.94901961],\n",
       "         [0.94901961, 0.94901961, 0.94901961],\n",
       "         ...,\n",
       "         [0.95686275, 0.95686275, 0.95686275],\n",
       "         [0.95686275, 0.95686275, 0.95686275],\n",
       "         [0.95686275, 0.95686275, 0.95686275]],\n",
       "\n",
       "        [[0.94901961, 0.94901961, 0.94901961],\n",
       "         [0.94901961, 0.94901961, 0.94901961],\n",
       "         [0.94901961, 0.94901961, 0.94901961],\n",
       "         ...,\n",
       "         [0.95686275, 0.95686275, 0.95686275],\n",
       "         [0.95686275, 0.95686275, 0.95686275],\n",
       "         [0.95686275, 0.95686275, 0.95686275]],\n",
       "\n",
       "        [[0.94901961, 0.94901961, 0.94901961],\n",
       "         [0.94901961, 0.94901961, 0.94901961],\n",
       "         [0.94901961, 0.94901961, 0.94901961],\n",
       "         ...,\n",
       "         [0.95686275, 0.95686275, 0.95686275],\n",
       "         [0.95686275, 0.95686275, 0.95686275],\n",
       "         [0.95686275, 0.95686275, 0.95686275]],\n",
       "\n",
       "        ...,\n",
       "\n",
       "        [[0.98431373, 0.98431373, 0.98431373],\n",
       "         [0.98431373, 0.98431373, 0.98431373],\n",
       "         [0.98431373, 0.98431373, 0.98431373],\n",
       "         ...,\n",
       "         [0.91372549, 0.91372549, 0.91372549],\n",
       "         [0.91764706, 0.91764706, 0.91764706],\n",
       "         [0.91764706, 0.91764706, 0.91764706]],\n",
       "\n",
       "        [[0.98431373, 0.98431373, 0.98431373],\n",
       "         [0.98431373, 0.98431373, 0.98431373],\n",
       "         [0.98431373, 0.98431373, 0.98431373],\n",
       "         ...,\n",
       "         [0.91764706, 0.91764706, 0.91764706],\n",
       "         [0.91764706, 0.91764706, 0.91764706],\n",
       "         [0.91764706, 0.91764706, 0.91764706]],\n",
       "\n",
       "        [[0.98431373, 0.98431373, 0.98431373],\n",
       "         [0.98431373, 0.98431373, 0.98431373],\n",
       "         [0.98431373, 0.98431373, 0.98431373],\n",
       "         ...,\n",
       "         [0.91764706, 0.91764706, 0.91764706],\n",
       "         [0.91764706, 0.91764706, 0.91764706],\n",
       "         [0.91764706, 0.91764706, 0.91764706]]],\n",
       "\n",
       "\n",
       "       [[[0.25882353, 0.25882353, 0.25882353],\n",
       "         [0.25882353, 0.25882353, 0.25882353],\n",
       "         [0.25882353, 0.25882353, 0.25882353],\n",
       "         ...,\n",
       "         [0.18431373, 0.18431373, 0.18431373],\n",
       "         [0.18039216, 0.18039216, 0.18039216],\n",
       "         [0.18039216, 0.18039216, 0.18039216]],\n",
       "\n",
       "        [[0.25882353, 0.25882353, 0.25882353],\n",
       "         [0.25882353, 0.25882353, 0.25882353],\n",
       "         [0.25882353, 0.25882353, 0.25882353],\n",
       "         ...,\n",
       "         [0.18431373, 0.18431373, 0.18431373],\n",
       "         [0.18039216, 0.18039216, 0.18039216],\n",
       "         [0.18039216, 0.18039216, 0.18039216]],\n",
       "\n",
       "        [[0.25882353, 0.25882353, 0.25882353],\n",
       "         [0.25882353, 0.25882353, 0.25882353],\n",
       "         [0.25882353, 0.25882353, 0.25882353],\n",
       "         ...,\n",
       "         [0.18039216, 0.18039216, 0.18039216],\n",
       "         [0.17647059, 0.17647059, 0.17647059],\n",
       "         [0.17647059, 0.17647059, 0.17647059]],\n",
       "\n",
       "        ...,\n",
       "\n",
       "        [[0.76078431, 0.76078431, 0.76078431],\n",
       "         [0.76078431, 0.76078431, 0.76078431],\n",
       "         [0.76078431, 0.76078431, 0.76078431],\n",
       "         ...,\n",
       "         [0.77647059, 0.77647059, 0.77647059],\n",
       "         [0.77647059, 0.77647059, 0.77647059],\n",
       "         [0.77647059, 0.77647059, 0.77647059]],\n",
       "\n",
       "        [[0.76078431, 0.76078431, 0.76078431],\n",
       "         [0.76078431, 0.76078431, 0.76078431],\n",
       "         [0.76078431, 0.76078431, 0.76078431],\n",
       "         ...,\n",
       "         [0.77647059, 0.77647059, 0.77647059],\n",
       "         [0.77647059, 0.77647059, 0.77647059],\n",
       "         [0.77647059, 0.77647059, 0.77647059]],\n",
       "\n",
       "        [[0.76078431, 0.76078431, 0.76078431],\n",
       "         [0.76078431, 0.76078431, 0.76078431],\n",
       "         [0.76078431, 0.76078431, 0.76078431],\n",
       "         ...,\n",
       "         [0.77647059, 0.77647059, 0.77647059],\n",
       "         [0.77647059, 0.77647059, 0.77647059],\n",
       "         [0.77647059, 0.77647059, 0.77647059]]]])"
      ]
     },
     "execution_count": 64,
     "metadata": {},
     "output_type": "execute_result"
    }
   ],
   "source": [
    "x"
   ]
  },
  {
   "cell_type": "code",
   "execution_count": 68,
   "metadata": {},
   "outputs": [
    {
     "data": {
      "text/plain": [
       "0"
      ]
     },
     "execution_count": 68,
     "metadata": {},
     "output_type": "execute_result"
    }
   ],
   "source": [
    "y[4]"
   ]
  },
  {
   "cell_type": "code",
   "execution_count": 67,
   "metadata": {},
   "outputs": [
    {
     "data": {
      "text/plain": [
       "0"
      ]
     },
     "execution_count": 67,
     "metadata": {},
     "output_type": "execute_result"
    }
   ],
   "source": [
    "np.argmax(y_pred[4])\n"
   ]
  },
  {
   "cell_type": "code",
   "execution_count": 69,
   "metadata": {},
   "outputs": [],
   "source": [
    "face_classifier = cv2.CascadeClassifier('haarcascade_frontalface_default.xml')"
   ]
  },
  {
   "cell_type": "code",
   "execution_count": null,
   "metadata": {},
   "outputs": [],
   "source": []
  },
  {
   "cell_type": "code",
   "execution_count": 70,
   "metadata": {},
   "outputs": [
    {
     "name": "stdout",
     "output_type": "stream",
     "text": [
      "(224, 224, 3)\n",
      "[[[57 57 57]\n",
      "  [57 57 57]\n",
      "  [55 55 55]\n",
      "  ...\n",
      "  [90 90 90]\n",
      "  [90 90 90]\n",
      "  [85 85 85]]\n",
      "\n",
      " [[58 58 58]\n",
      "  [59 59 59]\n",
      "  [54 54 54]\n",
      "  ...\n",
      "  [90 90 90]\n",
      "  [91 91 91]\n",
      "  [88 88 88]]\n",
      "\n",
      " [[58 58 58]\n",
      "  [59 59 59]\n",
      "  [56 56 56]\n",
      "  ...\n",
      "  [88 88 88]\n",
      "  [88 88 88]\n",
      "  [86 86 86]]\n",
      "\n",
      " ...\n",
      "\n",
      " [[ 5  5  5]\n",
      "  [ 2  2  2]\n",
      "  [ 2  2  2]\n",
      "  ...\n",
      "  [ 7  7  7]\n",
      "  [ 8  8  8]\n",
      "  [ 7  7  7]]\n",
      "\n",
      " [[ 2  2  2]\n",
      "  [ 2  2  2]\n",
      "  [ 4  4  4]\n",
      "  ...\n",
      "  [ 7  7  7]\n",
      "  [ 7  7  7]\n",
      "  [ 3  3  3]]\n",
      "\n",
      " [[ 1  1  1]\n",
      "  [ 2  2  2]\n",
      "  [ 4  4  4]\n",
      "  ...\n",
      "  [ 7  7  7]\n",
      "  [10 10 10]\n",
      "  [ 4  4  4]]]\n"
     ]
    }
   ],
   "source": [
    "cap=cv2.VideoCapture(0)\n",
    "ret, image=cap.read()\n",
    "# print(image.shape)\n",
    "image = cv2.cvtColor(image, cv2.COLOR_BGR2GRAY)\n",
    "# print(image.shape)\n",
    "image = cv2.cvtColor(image, cv2.COLOR_GRAY2BGR)\n",
    "image = cv2.resize(image, (224, 224))\n",
    "print(image.shape)\n",
    "print(image)\n",
    "cv2.imshow('graytobgr', image)\n",
    "cv2.waitKey(0)\n",
    "cap.release()\n",
    "cv2.destroyAllWindows()"
   ]
  },
  {
   "cell_type": "code",
   "execution_count": 96,
   "metadata": {},
   "outputs": [],
   "source": [
    "cap = cv2.VideoCapture(0)"
   ]
  },
  {
   "cell_type": "code",
   "execution_count": 97,
   "metadata": {},
   "outputs": [
    {
     "name": "stdout",
     "output_type": "stream",
     "text": [
      "(224, 224, 3)\n",
      "(1, 224, 224, 3)\n",
      "4\n",
      "(224, 224, 3)\n",
      "(1, 224, 224, 3)\n",
      "4\n",
      "(224, 224, 3)\n",
      "(1, 224, 224, 3)\n",
      "4\n",
      "(224, 224, 3)\n",
      "(1, 224, 224, 3)\n",
      "5\n",
      "(224, 224, 3)\n",
      "(1, 224, 224, 3)\n",
      "5\n",
      "(224, 224, 3)\n",
      "(1, 224, 224, 3)\n",
      "4\n",
      "(224, 224, 3)\n",
      "(1, 224, 224, 3)\n",
      "4\n",
      "(224, 224, 3)\n",
      "(1, 224, 224, 3)\n",
      "5\n",
      "(224, 224, 3)\n",
      "(1, 224, 224, 3)\n",
      "4\n",
      "(224, 224, 3)\n",
      "(1, 224, 224, 3)\n",
      "5\n",
      "(224, 224, 3)\n",
      "(1, 224, 224, 3)\n",
      "5\n",
      "(224, 224, 3)\n",
      "(1, 224, 224, 3)\n",
      "5\n",
      "(224, 224, 3)\n",
      "(1, 224, 224, 3)\n",
      "5\n",
      "(224, 224, 3)\n",
      "(1, 224, 224, 3)\n",
      "4\n",
      "(224, 224, 3)\n",
      "(1, 224, 224, 3)\n",
      "5\n",
      "(224, 224, 3)\n",
      "(1, 224, 224, 3)\n",
      "4\n",
      "(224, 224, 3)\n",
      "(1, 224, 224, 3)\n",
      "4\n",
      "(224, 224, 3)\n",
      "(1, 224, 224, 3)\n",
      "4\n",
      "(224, 224, 3)\n",
      "(1, 224, 224, 3)\n",
      "4\n",
      "(224, 224, 3)\n",
      "(1, 224, 224, 3)\n",
      "4\n",
      "(224, 224, 3)\n",
      "(1, 224, 224, 3)\n",
      "4\n",
      "(224, 224, 3)\n",
      "(1, 224, 224, 3)\n",
      "4\n",
      "(224, 224, 3)\n",
      "(1, 224, 224, 3)\n",
      "4\n",
      "(224, 224, 3)\n",
      "(1, 224, 224, 3)\n",
      "4\n",
      "(224, 224, 3)\n",
      "(1, 224, 224, 3)\n",
      "4\n",
      "(224, 224, 3)\n",
      "(1, 224, 224, 3)\n",
      "4\n",
      "(224, 224, 3)\n",
      "(1, 224, 224, 3)\n",
      "4\n",
      "(224, 224, 3)\n",
      "(1, 224, 224, 3)\n",
      "4\n",
      "(224, 224, 3)\n",
      "(1, 224, 224, 3)\n",
      "4\n",
      "(224, 224, 3)\n",
      "(1, 224, 224, 3)\n",
      "2\n",
      "(224, 224, 3)\n",
      "(1, 224, 224, 3)\n",
      "4\n",
      "(224, 224, 3)\n",
      "(1, 224, 224, 3)\n",
      "4\n",
      "(224, 224, 3)\n",
      "(1, 224, 224, 3)\n",
      "5\n",
      "(224, 224, 3)\n",
      "(1, 224, 224, 3)\n",
      "5\n",
      "(224, 224, 3)\n",
      "(1, 224, 224, 3)\n",
      "5\n",
      "(224, 224, 3)\n",
      "(1, 224, 224, 3)\n",
      "5\n",
      "(224, 224, 3)\n",
      "(1, 224, 224, 3)\n",
      "5\n",
      "(224, 224, 3)\n",
      "(1, 224, 224, 3)\n",
      "5\n",
      "(224, 224, 3)\n",
      "(1, 224, 224, 3)\n",
      "5\n",
      "(224, 224, 3)\n",
      "(1, 224, 224, 3)\n",
      "5\n",
      "(224, 224, 3)\n",
      "(1, 224, 224, 3)\n",
      "5\n",
      "(224, 224, 3)\n",
      "(1, 224, 224, 3)\n",
      "4\n",
      "(224, 224, 3)\n",
      "(1, 224, 224, 3)\n",
      "4\n",
      "(224, 224, 3)\n",
      "(1, 224, 224, 3)\n",
      "4\n",
      "(224, 224, 3)\n",
      "(1, 224, 224, 3)\n",
      "3\n",
      "(224, 224, 3)\n",
      "(1, 224, 224, 3)\n",
      "5\n",
      "(224, 224, 3)\n",
      "(1, 224, 224, 3)\n",
      "4\n",
      "(224, 224, 3)\n",
      "(1, 224, 224, 3)\n",
      "3\n",
      "(224, 224, 3)\n",
      "(1, 224, 224, 3)\n",
      "3\n",
      "(224, 224, 3)\n",
      "(1, 224, 224, 3)\n",
      "4\n",
      "(224, 224, 3)\n",
      "(1, 224, 224, 3)\n",
      "4\n",
      "(224, 224, 3)\n",
      "(1, 224, 224, 3)\n",
      "5\n",
      "(224, 224, 3)\n",
      "(1, 224, 224, 3)\n",
      "3\n",
      "(224, 224, 3)\n",
      "(1, 224, 224, 3)\n",
      "4\n",
      "(224, 224, 3)\n",
      "(1, 224, 224, 3)\n",
      "5\n",
      "(224, 224, 3)\n",
      "(1, 224, 224, 3)\n",
      "5\n",
      "(224, 224, 3)\n",
      "(1, 224, 224, 3)\n",
      "3\n",
      "(224, 224, 3)\n",
      "(1, 224, 224, 3)\n",
      "5\n",
      "(224, 224, 3)\n",
      "(1, 224, 224, 3)\n",
      "5\n",
      "(224, 224, 3)\n",
      "(1, 224, 224, 3)\n",
      "5\n",
      "(224, 224, 3)\n",
      "(1, 224, 224, 3)\n",
      "3\n",
      "(224, 224, 3)\n",
      "(1, 224, 224, 3)\n",
      "5\n",
      "(224, 224, 3)\n",
      "(1, 224, 224, 3)\n",
      "3\n",
      "(224, 224, 3)\n",
      "(1, 224, 224, 3)\n",
      "5\n",
      "(224, 224, 3)\n",
      "(1, 224, 224, 3)\n",
      "5\n",
      "(224, 224, 3)\n",
      "(1, 224, 224, 3)\n",
      "4\n",
      "(224, 224, 3)\n",
      "(1, 224, 224, 3)\n",
      "3\n",
      "(224, 224, 3)\n",
      "(1, 224, 224, 3)\n",
      "5\n",
      "(224, 224, 3)\n",
      "(1, 224, 224, 3)\n",
      "4\n",
      "(224, 224, 3)\n",
      "(1, 224, 224, 3)\n",
      "4\n",
      "(224, 224, 3)\n",
      "(1, 224, 224, 3)\n",
      "4\n",
      "(224, 224, 3)\n",
      "(1, 224, 224, 3)\n",
      "4\n",
      "(224, 224, 3)\n",
      "(1, 224, 224, 3)\n",
      "4\n",
      "(224, 224, 3)\n",
      "(1, 224, 224, 3)\n",
      "4\n",
      "(224, 224, 3)\n",
      "(1, 224, 224, 3)\n",
      "4\n",
      "(224, 224, 3)\n",
      "(1, 224, 224, 3)\n",
      "4\n",
      "(224, 224, 3)\n",
      "(1, 224, 224, 3)\n",
      "4\n",
      "(224, 224, 3)\n",
      "(1, 224, 224, 3)\n",
      "4\n",
      "(224, 224, 3)\n",
      "(1, 224, 224, 3)\n",
      "4\n",
      "(224, 224, 3)\n",
      "(1, 224, 224, 3)\n",
      "4\n",
      "(224, 224, 3)\n",
      "(1, 224, 224, 3)\n",
      "4\n",
      "(224, 224, 3)\n",
      "(1, 224, 224, 3)\n",
      "4\n",
      "(224, 224, 3)\n",
      "(1, 224, 224, 3)\n",
      "4\n",
      "(224, 224, 3)\n",
      "(1, 224, 224, 3)\n",
      "4\n",
      "(224, 224, 3)\n",
      "(1, 224, 224, 3)\n",
      "4\n",
      "(224, 224, 3)\n",
      "(1, 224, 224, 3)\n",
      "5\n",
      "(224, 224, 3)\n",
      "(1, 224, 224, 3)\n",
      "4\n",
      "(224, 224, 3)\n",
      "(1, 224, 224, 3)\n",
      "4\n",
      "(224, 224, 3)\n",
      "(1, 224, 224, 3)\n",
      "4\n",
      "(224, 224, 3)\n",
      "(1, 224, 224, 3)\n",
      "4\n",
      "(224, 224, 3)\n",
      "(1, 224, 224, 3)\n",
      "4\n",
      "(224, 224, 3)\n",
      "(1, 224, 224, 3)\n",
      "4\n",
      "(224, 224, 3)\n",
      "(1, 224, 224, 3)\n",
      "4\n",
      "(224, 224, 3)\n",
      "(1, 224, 224, 3)\n",
      "4\n",
      "(224, 224, 3)\n",
      "(1, 224, 224, 3)\n",
      "4\n",
      "(224, 224, 3)\n",
      "(1, 224, 224, 3)\n",
      "4\n",
      "(224, 224, 3)\n",
      "(1, 224, 224, 3)\n",
      "4\n",
      "(224, 224, 3)\n",
      "(1, 224, 224, 3)\n",
      "4\n",
      "(224, 224, 3)\n",
      "(1, 224, 224, 3)\n",
      "4\n",
      "(224, 224, 3)\n",
      "(1, 224, 224, 3)\n",
      "5\n"
     ]
    },
    {
     "data": {
      "text/plain": [
       "<function destroyAllWindows>"
      ]
     },
     "execution_count": 97,
     "metadata": {},
     "output_type": "execute_result"
    }
   ],
   "source": [
    "c = 0\n",
    "while True:\n",
    "    ret, image=cap.read()\n",
    "#     print(image)\n",
    "    gray_image= cv2.cvtColor(image, cv2.COLOR_BGR2GRAY)\n",
    "    face_coor = face_classifier.detectMultiScale(gray_image, 1.3, 5)\n",
    "    \n",
    "    if len(face_coor)==0:\n",
    "        continue;\n",
    "    face_image=np.array(0)\n",
    "    for (X,Y,W,H) in face_coor:\n",
    "#         cv2.rectangle(test_image,(x,y), (x+w,y+h), (255,0,0))\n",
    "        face_image=gray_image[Y:Y+W,X:X+H]\n",
    "    face_image=cv2.resize(face_image,(224, 224))\n",
    "#     image_pixels = image.image_to_array(roi_gray)\n",
    "#     image_pixels = np.expand_dims(image_pixels, axis = 0)\n",
    "#     image_pixels /= 255\n",
    "    face_image = cv2.cvtColor(face_image, cv2.COLOR_GRAY2BGR)\n",
    "    cv2.imshow('face', face_image)\n",
    "   \n",
    "    face_image=face_image/255\n",
    "    print(face_image.shape)\n",
    "    print(np.array([face_image]).shape)\n",
    "    prediction = model.predict(np.array([face_image]))\n",
    "    print(np.argmax(prediction[0]))\n",
    "\n",
    "    emotion_names = ('angry', 'disgust', 'fear', 'happy', 'neutral', 'sad', 'surprise')\n",
    "#     emotion_prediction = emotion_detection[max_index]\n",
    "\n",
    "\n",
    "# #     cv2.putText(test_image, emotion_prediction, (int(x), int(y)))\n",
    "#     cv2.putText(frame,label,label_position,cv2.FONT_HERSHEY_SIMPLEX,2,(0,255,0),3)  \n",
    "\n",
    "\n",
    "#     resize_image = cv2.resize(image, (1000, 700))\n",
    "#     cv2.imshow('Emotion',resized_image)\n",
    "    c+=1\n",
    "    if cv2.waitKey(1) == 13 or c==100:\n",
    "        break\n",
    "\n",
    "\n",
    "cap.release()\n",
    "cv2.destroyAllWindows"
   ]
  },
  {
   "cell_type": "code",
   "execution_count": 95,
   "metadata": {},
   "outputs": [],
   "source": [
    "cap.release()"
   ]
  },
  {
   "cell_type": "code",
   "execution_count": null,
   "metadata": {},
   "outputs": [],
   "source": []
  }
 ],
 "metadata": {
  "kernelspec": {
   "display_name": "Python 3",
   "language": "python",
   "name": "python3"
  },
  "language_info": {
   "codemirror_mode": {
    "name": "ipython",
    "version": 3
   },
   "file_extension": ".py",
   "mimetype": "text/x-python",
   "name": "python",
   "nbconvert_exporter": "python",
   "pygments_lexer": "ipython3",
   "version": "3.8.5"
  }
 },
 "nbformat": 4,
 "nbformat_minor": 4
}
