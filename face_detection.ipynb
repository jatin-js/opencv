{
 "cells": [
  {
   "cell_type": "code",
   "execution_count": 2,
   "metadata": {},
   "outputs": [],
   "source": [
    "import cv2\n",
    "import numpy as np\n",
    "import PIL\n",
    "import tensorflow as tf\n",
    "from tensorflow import keras"
   ]
  },
  {
   "cell_type": "code",
   "execution_count": 3,
   "metadata": {},
   "outputs": [],
   "source": [
    "face_classifier = cv2.CascadeClassifier('haarcascade_frontalface_default.xml')"
   ]
  },
  {
   "cell_type": "code",
   "execution_count": 4,
   "metadata": {},
   "outputs": [
    {
     "name": "stderr",
     "output_type": "stream",
     "text": [
      "<>:5: SyntaxWarning: \"is\" with a literal. Did you mean \"==\"?\n",
      "<>:5: SyntaxWarning: \"is\" with a literal. Did you mean \"==\"?\n",
      "<ipython-input-4-3ccc34bdac79>:5: SyntaxWarning: \"is\" with a literal. Did you mean \"==\"?\n",
      "  if faces is():\n"
     ]
    }
   ],
   "source": [
    "def face_extractor(img):\n",
    "    gray = cv2.cvtColor(img, cv2.COLOR_BGR2GRAY)\n",
    "    faces = face_classifier.detectMultiScale(gray, 1.3, 5)\n",
    "    \n",
    "    if faces is():\n",
    "        return None\n",
    "  \n",
    "    for(x, y, w, h) in faces:\n",
    "        cropped_face = img[y:y+h, x:x+w]\n",
    "\n",
    "    return cropped_face"
   ]
  },
  {
   "cell_type": "code",
   "execution_count": 5,
   "metadata": {},
   "outputs": [
    {
     "name": "stdout",
     "output_type": "stream",
     "text": [
      "sd\n"
     ]
    }
   ],
   "source": [
    "print('sd')"
   ]
  },
  {
   "cell_type": "code",
   "execution_count": 6,
   "metadata": {},
   "outputs": [],
   "source": [
    "# cap = cv2.VideoCapture(0)\n",
    "cap = cv2.VideoCapture(0)"
   ]
  },
  {
   "cell_type": "code",
   "execution_count": 7,
   "metadata": {},
   "outputs": [
    {
     "name": "stdout",
     "output_type": "stream",
     "text": [
      "Face not Found\n",
      "(200, 200, 3)\n",
      "(200, 200, 3)\n",
      "(200, 200, 3)\n",
      "(200, 200, 3)\n",
      "(200, 200, 3)\n",
      "Face not Found\n",
      "Face not Found\n",
      "Face not Found\n",
      "Face not Found\n",
      "(200, 200, 3)\n",
      "(200, 200, 3)\n",
      "(200, 200, 3)\n",
      "(200, 200, 3)\n",
      "(200, 200, 3)\n",
      "(200, 200, 3)\n",
      "(200, 200, 3)\n",
      "(200, 200, 3)\n",
      "(200, 200, 3)\n",
      "(200, 200, 3)\n",
      "(200, 200, 3)\n",
      "(200, 200, 3)\n",
      "(200, 200, 3)\n",
      "(200, 200, 3)\n",
      "(200, 200, 3)\n",
      "(200, 200, 3)\n",
      "(200, 200, 3)\n",
      "Face not Found\n",
      "(200, 200, 3)\n",
      "Face not Found\n",
      "(200, 200, 3)\n",
      "(200, 200, 3)\n",
      "Face not Found\n",
      "(200, 200, 3)\n",
      "Face not Found\n",
      "(200, 200, 3)\n",
      "(200, 200, 3)\n",
      "(200, 200, 3)\n",
      "(200, 200, 3)\n",
      "(200, 200, 3)\n",
      "(200, 200, 3)\n",
      "(200, 200, 3)\n",
      "(200, 200, 3)\n",
      "(200, 200, 3)\n",
      "(200, 200, 3)\n",
      "(200, 200, 3)\n",
      "(200, 200, 3)\n",
      "(200, 200, 3)\n",
      "(200, 200, 3)\n",
      "(200, 200, 3)\n",
      "(200, 200, 3)\n",
      "(200, 200, 3)\n",
      "(200, 200, 3)\n",
      "(200, 200, 3)\n",
      "(200, 200, 3)\n",
      "(200, 200, 3)\n",
      "Face not Found\n",
      "(200, 200, 3)\n",
      "(200, 200, 3)\n",
      "Face not Found\n",
      "(200, 200, 3)\n",
      "Face not Found\n",
      "(200, 200, 3)\n",
      "(200, 200, 3)\n",
      "(200, 200, 3)\n",
      "(200, 200, 3)\n",
      "(200, 200, 3)\n",
      "(200, 200, 3)\n",
      "Face not Found\n",
      "(200, 200, 3)\n",
      "(200, 200, 3)\n",
      "(200, 200, 3)\n",
      "(200, 200, 3)\n",
      "(200, 200, 3)\n",
      "(200, 200, 3)\n",
      "(200, 200, 3)\n",
      "(200, 200, 3)\n",
      "(200, 200, 3)\n",
      "(200, 200, 3)\n",
      "(200, 200, 3)\n",
      "(200, 200, 3)\n",
      "(200, 200, 3)\n",
      "Face not Found\n",
      "Face not Found\n",
      "Face not Found\n",
      "Face not Found\n",
      "(200, 200, 3)\n",
      "(200, 200, 3)\n",
      "(200, 200, 3)\n",
      "Face not Found\n",
      "(200, 200, 3)\n",
      "(200, 200, 3)\n",
      "Face not Found\n",
      "(200, 200, 3)\n",
      "(200, 200, 3)\n",
      "(200, 200, 3)\n",
      "Face not Found\n",
      "(200, 200, 3)\n",
      "(200, 200, 3)\n",
      "(200, 200, 3)\n",
      "(200, 200, 3)\n",
      "(200, 200, 3)\n",
      "(200, 200, 3)\n",
      "(200, 200, 3)\n",
      "(200, 200, 3)\n",
      "(200, 200, 3)\n",
      "(200, 200, 3)\n",
      "(200, 200, 3)\n",
      "Face not Found\n",
      "Face not Found\n",
      "Face not Found\n",
      "(200, 200, 3)\n",
      "(200, 200, 3)\n",
      "(200, 200, 3)\n",
      "Face not Found\n",
      "(200, 200, 3)\n",
      "(200, 200, 3)\n",
      "Face not Found\n",
      "(200, 200, 3)\n",
      "(200, 200, 3)\n",
      "Face not Found\n",
      "Face not Found\n",
      "(200, 200, 3)\n",
      "(200, 200, 3)\n",
      "(200, 200, 3)\n",
      "Face not Found\n",
      "(200, 200, 3)\n",
      "Face not Found\n",
      "(200, 200, 3)\n",
      "Collecting samples completed!!!\n"
     ]
    }
   ],
   "source": [
    "if not cap.isOpened():\n",
    "    print(\"Error: Could not open file: %s\" % (0))\n",
    "    pass\n",
    "count = 0\n",
    "while True:\n",
    "    ret, frame = cap.read()\n",
    "    \n",
    "    if face_extractor(frame) is not None:\n",
    "        count+=1\n",
    "        face = cv2.resize(face_extractor(frame), (200, 200))\n",
    "        print(face.shape)\n",
    "        face = cv2.cvtColor(face, cv2.COLOR_BGR2GRAY)\n",
    "        file_name_path = '/Users/app/Documents/Machine_Learning/opencv/faces/user'+str(count)+'.jpg'\n",
    "        cv2.imwrite(file_name_path, face)\n",
    "\n",
    "        cv2.putText(face, str(count), (50, 50), cv2.FONT_HERSHEY_COMPLEX, 1, (0, 255, 0), 2)\n",
    "        cv2.imshow('Face Cropper', face)\n",
    "    else:\n",
    "        print('Face not Found')\n",
    "        pass\n",
    "    \n",
    "    if cv2.waitKey(1)==13 or count==100: # enter\n",
    "        break\n",
    "\n",
    "cap.release()\n",
    "cv2.destroyAllWindows()\n",
    "print('Collecting samples completed!!!')"
   ]
  },
  {
   "cell_type": "code",
   "execution_count": 12,
   "metadata": {},
   "outputs": [],
   "source": [
    "cap.release()"
   ]
  },
  {
   "cell_type": "code",
   "execution_count": 4,
   "metadata": {},
   "outputs": [
    {
     "data": {
      "text/plain": [
       "PosixPath('faces')"
      ]
     },
     "execution_count": 4,
     "metadata": {},
     "output_type": "execute_result"
    }
   ],
   "source": [
    "import pathlib\n",
    "data_path = pathlib.Path('faces/')\n",
    "data_path"
   ]
  },
  {
   "cell_type": "code",
   "execution_count": 24,
   "metadata": {},
   "outputs": [],
   "source": [
    "img_paths = list(data_path.glob('user*'))"
   ]
  },
  {
   "cell_type": "code",
   "execution_count": 26,
   "metadata": {},
   "outputs": [
    {
     "data": {
      "text/plain": [
       "PosixPath('faces/user88.jpg')"
      ]
     },
     "execution_count": 26,
     "metadata": {},
     "output_type": "execute_result"
    }
   ],
   "source": [
    "# np.sort(img_paths)\n",
    "img_paths[0]"
   ]
  },
  {
   "cell_type": "code",
   "execution_count": 16,
   "metadata": {},
   "outputs": [
    {
     "data": {
      "image/png": "[encoded data removed]",
      "text/plain": [
       "<PIL.JpegImagePlugin.JpegImageFile image mode=L size=200x200 at 0x1135B5F10>"
      ]
     },
     "execution_count": 16,
     "metadata": {},
     "output_type": "execute_result"
    }
   ],
   "source": [
    "from PIL import Image\n",
    "Image.open(img_paths[0])"
   ]
  },
  {
   "cell_type": "code",
   "execution_count": 27,
   "metadata": {},
   "outputs": [
    {
     "data": {
      "text/plain": [
       "'faces/user88.jpg'"
      ]
     },
     "execution_count": 27,
     "metadata": {},
     "output_type": "execute_result"
    }
   ],
   "source": [
    "str(img_paths[0])"
   ]
  },
  {
   "cell_type": "code",
   "execution_count": 98,
   "metadata": {},
   "outputs": [],
   "source": [
    "x = []\n",
    "y = []\n",
    "for path in img_paths:\n",
    "    img = cv2.imread(str(path))\n",
    "    x.append(img)\n",
    "    number = ''\n",
    "    for word in str(path):\n",
    "        if word.isdigit():\n",
    "            number+=word\n",
    "    y.append(int(number)%2)"
   ]
  },
  {
   "cell_type": "code",
   "execution_count": 99,
   "metadata": {},
   "outputs": [],
   "source": [
    "x = np.array(x)\n",
    "y = np.array(y)\n",
    "x = x/255"
   ]
  },
  {
   "cell_type": "code",
   "execution_count": 134,
   "metadata": {},
   "outputs": [],
   "source": [
    "model = keras.models.Sequential([\n",
    "    keras.layers.Conv2D(16, 3, padding='same', activation='relu'),\n",
    "    keras.layers.MaxPool2D(),\n",
    "#     keras.layers.Conv2D(32, 3, padding='same', activation='relu'),\n",
    "#     keras.layers.MaxPool2D(),\n",
    "    keras.layers.Flatten(),\n",
    "    keras.layers.Dense(128, activation='relu'),\n",
    "#     keras.layers.Dense(128, activation='relu'), \n",
    "    keras.layers.Dense(2, activation='softmax')\n",
    "])\n",
    "model.compile(\n",
    "    optimizer='adam',\n",
    "    loss='sparse_categorical_crossentropy',\n",
    "    metrics='accuracy'\n",
    ")\n"
   ]
  },
  {
   "cell_type": "code",
   "execution_count": 135,
   "metadata": {},
   "outputs": [
    {
     "name": "stdout",
     "output_type": "stream",
     "text": [
      "Epoch 1/5\n",
      "4/4 [==============================] - 1s 158ms/step - loss: 5.5833 - accuracy: 0.5088\n",
      "Epoch 2/5\n",
      "4/4 [==============================] - 1s 146ms/step - loss: 1.9838 - accuracy: 0.3853\n",
      "Epoch 3/5\n",
      "4/4 [==============================] - 1s 143ms/step - loss: 1.4476 - accuracy: 0.4906\n",
      "Epoch 4/5\n",
      "4/4 [==============================] - 1s 142ms/step - loss: 1.0194 - accuracy: 0.5255\n",
      "Epoch 5/5\n",
      "4/4 [==============================] - 1s 148ms/step - loss: 0.7509 - accuracy: 0.4762\n"
     ]
    },
    {
     "data": {
      "text/plain": [
       "<tensorflow.python.keras.callbacks.History at 0x177c11040>"
      ]
     },
     "execution_count": 135,
     "metadata": {},
     "output_type": "execute_result"
    }
   ],
   "source": [
    "model.fit(x, y, epochs=5)"
   ]
  },
  {
   "cell_type": "code",
   "execution_count": 140,
   "metadata": {},
   "outputs": [
    {
     "name": "stdout",
     "output_type": "stream",
     "text": [
      "4/4 [==============================] - 1s 52ms/step - loss: 0.7920 - accuracy: 0.5000\n"
     ]
    },
    {
     "data": {
      "text/plain": [
       "[0.7919512391090393, 0.5]"
      ]
     },
     "execution_count": 140,
     "metadata": {},
     "output_type": "execute_result"
    }
   ],
   "source": [
    "model.evaluate(x, y)"
   ]
  },
  {
   "cell_type": "code",
   "execution_count": 138,
   "metadata": {},
   "outputs": [],
   "source": [
    "y_pred = model.predict(x)"
   ]
  },
  {
   "cell_type": "code",
   "execution_count": 139,
   "metadata": {},
   "outputs": [
    {
     "data": {
      "text/plain": [
       "array([0.11069689, 0.88930315], dtype=float32)"
      ]
     },
     "execution_count": 139,
     "metadata": {},
     "output_type": "execute_result"
    }
   ],
   "source": [
    "y_pred[1]"
   ]
  },
  {
   "cell_type": "code",
   "execution_count": null,
   "metadata": {},
   "outputs": [],
   "source": []
  }
 ],
 "metadata": {
  "kernelspec": {
   "display_name": "Python 3",
   "language": "python",
   "name": "python3"
  },
  "language_info": {
   "codemirror_mode": {
    "name": "ipython",
    "version": 3
   },
   "file_extension": ".py",
   "mimetype": "text/x-python",
   "name": "python",
   "nbconvert_exporter": "python",
   "pygments_lexer": "ipython3",
   "version": "3.8.5"
  }
 },
 "nbformat": 4,
 "nbformat_minor": 4
}
