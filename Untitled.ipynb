{
 "cells": [
  {
   "cell_type": "code",
   "execution_count": 2,
   "metadata": {},
   "outputs": [],
   "source": [
    "import cv2\n",
    "import matplotlib.pyplot as plt\n",
    "import numpy as np\n",
    "import sys\n",
    "%matplotlib inline"
   ]
  },
  {
   "cell_type": "code",
   "execution_count": 32,
   "metadata": {},
   "outputs": [
    {
     "name": "stdout",
     "output_type": "stream",
     "text": [
      "(4608, 3456, 3)\n"
     ]
    }
   ],
   "source": [
    "img = cv2.imread('/Users/app/Documents/Machine_Learning/opencv/pic.jpg')\n",
    "cv2.imshow('image', img)\n",
    "print(img.shape)\n",
    "cv2.waitKey(0)\n",
    "cv2.destroyAllWindows()"
   ]
  },
  {
   "cell_type": "code",
   "execution_count": 16,
   "metadata": {},
   "outputs": [],
   "source": [
    "# img = cv2.imread('pic.jpg')\n",
    "# cv2.imshow('original image', img)\n",
    "# cv2.imwrite('output.jpg', img)\n",
    "# cv2.imwrite('output.png', img)\n",
    "# cv2.waitKey(0)\n",
    "# cv2.destroyAllWindows()"
   ]
  },
  {
   "cell_type": "code",
   "execution_count": 20,
   "metadata": {},
   "outputs": [],
   "source": [
    "img = cv2.imread('pic.jpg')\n",
    "cv2.imshow('original image', img)\n",
    "cv2.waitKey(0)\n",
    "gray_img = cv2.cvtColor(img, cv2.COLOR_BGR2GRAY)\n",
    "cv2.imshow('gray scaled image', gray_img)\n",
    "cv2.waitKey(0)\n",
    "cv2.destroyAllWindows()"
   ]
  },
  {
   "cell_type": "code",
   "execution_count": 28,
   "metadata": {},
   "outputs": [],
   "source": [
    "img = cv2.imread('pic.jpg', 0)\n",
    "cv2.imshow('gray scale image', img)\n",
    "cv2.waitKey(0)\n",
    "cv2.destroyAllWindows()"
   ]
  },
  {
   "cell_type": "code",
   "execution_count": 31,
   "metadata": {},
   "outputs": [
    {
     "name": "stdout",
     "output_type": "stream",
     "text": [
      "(4608, 3456)\n"
     ]
    }
   ],
   "source": [
    "img = cv2.imread('pic.jpg', 0)\n",
    "cv2.imshow('Gray', img)\n",
    "print(img.shape)\n",
    "cv2.waitKey(0)\n",
    "cv2.destroyAllWindows()"
   ]
  },
  {
   "cell_type": "code",
   "execution_count": 40,
   "metadata": {},
   "outputs": [],
   "source": [
    "img = cv2.imread('pic.jpg', 0)\n",
    "cv2.imshow('Gray', img)\n",
    "cv2.waitKey(0)\n",
    "ret, bw = cv2.threshold(img, 127, 255, cv2.THRESH_BINARY)\n",
    "cv2.imshow('binary', bw)\n",
    "cv2.waitKey(0)\n",
    "cv2.destroyAllWindows()"
   ]
  },
  {
   "cell_type": "code",
   "execution_count": 1,
   "metadata": {},
   "outputs": [],
   "source": [
    "import cv2\n",
    "img = cv2.imread('pic.jpg')\n",
    "img_HSV = cv2.cvtColor(img, cv2.COLOR_BGR2HSV)\n",
    "cv2.imshow('HSV image', img_HSV)\n",
    "cv2.imshow('Hue channel', img_HSV[:,:,0])\n",
    "cv2.imshow('Saturation channel', img_HSV[:,:,1])\n",
    "cv2.imshow('Value channel', img_HSV[:,:,2])\n",
    "cv2.waitKey(0)\n",
    "cv2.destroyAllWindows()"
   ]
  },
  {
   "cell_type": "code",
   "execution_count": 8,
   "metadata": {},
   "outputs": [],
   "source": [
    "import cv2\n",
    "img = cv2.imread('pic.jpg')\n",
    "cv2.imshow('original', img)\n",
    "cv2.waitKey(0)\n",
    "B, G, R = cv2.split(img)\n",
    "zeros = np.zeros(img.shape[:2], dtype='uint8')\n",
    "cv2.imshow('Red', cv2.merge([zeros, zeros, R]))\n",
    "cv2.waitKey(0)\n",
    "cv2.imshow('Green', G)\n",
    "cv2.waitKey(0)\n",
    "cv2.imshow('Blue', cv2.merge([B, zeros, zeros]))\n",
    "cv2.waitKey(0)\n",
    "cv2.destroyAllWindows()"
   ]
  },
  {
   "cell_type": "code",
   "execution_count": 12,
   "metadata": {},
   "outputs": [
    {
     "name": "stdout",
     "output_type": "stream",
     "text": [
      "4608 3456\n",
      "1152.0 864.0\n",
      "[[1.000e+00 0.000e+00 1.152e+03]\n",
      " [0.000e+00 1.000e+00 8.640e+02]]\n"
     ]
    }
   ],
   "source": [
    "import cv2\n",
    "img = cv2.imread('pic.jpg')\n",
    "cv2.imshow('original', img)\n",
    "height, width = img.shape[:2]\n",
    "print(height, width)\n",
    "quarter_width, quarter_height = height/4, width/4\n",
    "print(quarter_width, quarter_height)\n",
    "\n",
    "# T = |1 0 Tx|\n",
    "#     |0 1 Ty|\n",
    "# T is our translation matrix\n",
    "\n",
    "T = np.float32([[1, 0, quarter_width],\n",
    "                [0, 1, quarter_height]])\n",
    "\n",
    "print(T)\n",
    "\n",
    "# We use warpAffine transformation to shift the image\n",
    "\n",
    "img_translation = cv2.warpAffine(img, T, (width, height))\n",
    "cv2.imshow('original', img)\n",
    "cv2.imshow('Translation', img_translation)\n",
    "cv2.waitKey(0)\n",
    "cv2.destroyAllWindows()\n"
   ]
  },
  {
   "cell_type": "code",
   "execution_count": 27,
   "metadata": {},
   "outputs": [],
   "source": [
    "import cv2\n",
    "img = cv2.imread('pic.jpg')\n",
    "cv2.imshow('original', img)\n",
    "height, width = img.shape[:2]\n",
    "rotation_matrix = cv2.getRotationMatrix2D((width/2, height/2), 40, 0.5)\n",
    "rotated_image = cv2.warpAffine(img, rotation_matrix, (width, height))\n",
    "\n",
    "cv2.imshow('original', img)\n",
    "cv2.imshow('rotated', rotated_image)\n",
    "cv2.waitKey(0)\n",
    "cv2.destroyAllWindows()"
   ]
  },
  {
   "cell_type": "code",
   "execution_count": 28,
   "metadata": {},
   "outputs": [],
   "source": [
    "import cv2\n",
    "img = cv2.imread('pic.jpg')\n",
    "cv2.imshow('original', img)\n",
    "rotated_img = cv2.transpose(img)\n",
    "cv2.imshow('Rotated image', rotated_img)\n",
    "cv2.imshow('original', img)\n",
    "cv2.waitKey(0)\n",
    "cv2.destroyAllWindows()"
   ]
  },
  {
   "cell_type": "code",
   "execution_count": 2,
   "metadata": {},
   "outputs": [],
   "source": [
    "import cv2\n",
    "img = cv2.imread('pic.jpg')\n",
    "cv2.imshow('original', img)\n",
    "cv2.waitKey()\n",
    "# 3/4 of original size\n",
    "img_scaled = cv2.resize(img, None, fx=0.75, fy=0.75)\n",
    "cv2.imshow('Scaling-Linear Interpolation', img_scaled)\n",
    "cv2.waitKey()\n",
    "# double the size\n",
    "img_scaled1 = cv2.resize(img, None, fx=2, fy=2, interpolation=cv2.INTER_CUBIC)\n",
    "cv2.imshow('Scaling-Cubic Interplotion', img_scaled1)\n",
    "cv2.waitKey()\n",
    "# resize by exact dimension\n",
    "img_scaled2 = cv2.resize(img, (900, 400), interpolation=cv2.INTER_AREA)\n",
    "cv2.imshow('Scaling-skewed size', img_scaled2)\n",
    "cv2.waitKey()\n",
    "\n",
    "cv2.destroyAllWindows()"
   ]
  },
  {
   "cell_type": "code",
   "execution_count": 6,
   "metadata": {},
   "outputs": [],
   "source": [
    "# half and double\n",
    "import cv2\n",
    "img = cv2.imread('pic.jpg')\n",
    "smaller = cv2.pyrDown(img)\n",
    "larger = cv2.pyrUp(img)\n",
    "cv2.imshow('original', img)\n",
    "cv2.imshow('smaller', smaller)\n",
    "cv2.imshow('larger', larger)\n",
    "cv2.waitKey()\n",
    "cv2.destroyAllWindows()"
   ]
  },
  {
   "cell_type": "code",
   "execution_count": null,
   "metadata": {},
   "outputs": [],
   "source": []
  },
  {
   "cell_type": "code",
   "execution_count": null,
   "metadata": {},
   "outputs": [],
   "source": []
  }
 ],
 "metadata": {
  "kernelspec": {
   "display_name": "Python 3",
   "language": "python",
   "name": "python3"
  },
  "language_info": {
   "codemirror_mode": {
    "name": "ipython",
    "version": 3
   },
   "file_extension": ".py",
   "mimetype": "text/x-python",
   "name": "python",
   "nbconvert_exporter": "python",
   "pygments_lexer": "ipython3",
   "version": "3.8.5"
  }
 },
 "nbformat": 4,
 "nbformat_minor": 4
}
